{
 "cells": [
  {
   "cell_type": "markdown",
   "id": "8e4964f2-b7e4-427e-992f-7d0b7af36ef9",
   "metadata": {},
   "source": [
    "# Data Science Tools and Ecosystem"
   ]
  },
  {
   "cell_type": "markdown",
   "id": "4639c9b1-e3b5-411d-ab40-b53db4ac4762",
   "metadata": {},
   "source": [
    "In this notebook, Data Science Tools and Ecosystem are summarized."
   ]
  },
  {
   "cell_type": "markdown",
   "id": "56e9951a-d2af-4910-a50d-913f68248acd",
   "metadata": {},
   "source": [
    "**Objectives:**\n",
    "\n",
    "* List of popular Data Science languages\n",
    "* List of commonly used Data Science libraries\n",
    "* List of common Data Science tools"
   ]
  },
  {
   "cell_type": "markdown",
   "id": "42633a98-1f0d-4baf-ac6a-9922f4120822",
   "metadata": {},
   "source": [
    "Some of the popular languages that Data Scientists use are:\n",
    "\n",
    "1. Julia\n",
    "1. Python\n",
    "1. R"
   ]
  },
  {
   "cell_type": "markdown",
   "id": "84106724-bf86-4138-922c-721374d281a0",
   "metadata": {},
   "source": [
    "Some of the commonly used libraries used by Data Scientists include:\n",
    "    \n",
    "1. Pandas\n",
    "1. Numpy\n",
    "1. Matplotlib"
   ]
  },
  {
   "cell_type": "markdown",
   "id": "7b50a89f-f580-40b2-81be-cad5b2ddb261",
   "metadata": {},
   "source": [
    "| Data Science Tools |\n",
    "|:------------------:|\n",
    "| R Studio           |\n",
    "| Visual Studio Code |\n",
    "| Google Colab       |"
   ]
  },
  {
   "cell_type": "code",
   "execution_count": 1,
   "id": "948a0a5f-3017-4f4d-951c-ac78756d9222",
   "metadata": {
    "tags": []
   },
   "outputs": [
    {
     "data": {
      "text/plain": [
       "17"
      ]
     },
     "execution_count": 1,
     "metadata": {},
     "output_type": "execute_result"
    }
   ],
   "source": [
    "# This a simple arithmetic expression to mutiply then add integers\n",
    "(3*4)+5"
   ]
  },
  {
   "cell_type": "code",
   "execution_count": 2,
   "id": "80a561f3-aa1c-490b-bb01-4c930d4c3647",
   "metadata": {
    "tags": []
   },
   "outputs": [
    {
     "data": {
      "text/plain": [
       "3.3333333333333335"
      ]
     },
     "execution_count": 2,
     "metadata": {},
     "output_type": "execute_result"
    }
   ],
   "source": [
    "# This will convert 200 minutes to hours by diving by 60\n",
    "200/60"
   ]
  },
  {
   "cell_type": "markdown",
   "id": "e7c85a08-1e28-4a42-ac09-e03975b8bfed",
   "metadata": {},
   "source": [
    "## Author\n",
    "D Harrison\n"
   ]
  }
 ],
 "metadata": {
  "kernelspec": {
   "display_name": "Python",
   "language": "python",
   "name": "conda-env-python-py"
  },
  "language_info": {
   "codemirror_mode": {
    "name": "ipython",
    "version": 3
   },
   "file_extension": ".py",
   "mimetype": "text/x-python",
   "name": "python",
   "nbconvert_exporter": "python",
   "pygments_lexer": "ipython3",
   "version": "3.7.12"
  }
 },
 "nbformat": 4,
 "nbformat_minor": 5
}
